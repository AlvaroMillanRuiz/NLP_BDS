{
 "cells": [
  {
   "cell_type": "code",
   "execution_count": 1,
   "id": "5f16d596",
   "metadata": {},
   "outputs": [],
   "source": [
    "import pandas as pd\n",
    "import numpy as np"
   ]
  },
  {
   "cell_type": "code",
   "execution_count": null,
   "id": "e44062ce",
   "metadata": {},
   "outputs": [],
   "source": [
    "UN_dict = {1946:55, 1947:57, 1948:58, 1949:59, 1950:60, 1951:61, 1952:62, 1953:63, \n",
    "           1954:64, 1955:76, 1956:80, 1957:82, 1958:82, 1959:82, 1960:99, 1961:104, \n",
    "           1962:110, 1963:113, 1964:115, 1965:117,\n",
    "            1966:122, 1967:123, 1968:126, 1969:126, 1970:127, 1971:132, 1972:132,\n",
    "            1973:135, 1974:138, 1975:144, 1976:147, 1977:149, 1978:151, 1979:152,\n",
    "            1980:154, 1981:157, 1982:157, 1983:158, 1984:159, 1985:159, 1986:159,\n",
    "            1987:159, 1988:159, 1989:159, 1990:159, 1991:166, 1992:179, 1993:184,\n",
    "            1994:184, 1995:184, 1996:184, 1997:184, 1998:184, 1999:188, 2000:189,\n",
    "            2001:189, 2002:191, 2003:191, 2004:191, 2005:191, 2006:192, 2007:192,\n",
    "            2008:192, 2009:192, 2010:192, 2011:193, 2012:193, 2013:193, 2014:193,\n",
    "            2015:193, 2016:193, 2017:193, 2018:193, 2019:193, 2020:193, 2021:193,\n",
    "            2022:193, 2023:193, 2024:193}\n",
    "\n",
    "df_speech_clean['UN-Member-States'] = df_speech_clean['Year'].map(UN_dict)\n",
    "df_speech_clean"
   ]
  }
 ],
 "metadata": {
  "kernelspec": {
   "display_name": "Python 3",
   "language": "python",
   "name": "python3"
  },
  "language_info": {
   "codemirror_mode": {
    "name": "ipython",
    "version": 3
   },
   "file_extension": ".py",
   "mimetype": "text/x-python",
   "name": "python",
   "nbconvert_exporter": "python",
   "pygments_lexer": "ipython3",
   "version": "3.13.1"
  }
 },
 "nbformat": 4,
 "nbformat_minor": 5
}
